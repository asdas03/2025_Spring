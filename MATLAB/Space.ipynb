{
 "cells": [
  {
   "cell_type": "code",
   "execution_count": 1,
   "id": "538c4745",
   "metadata": {},
   "outputs": [
    {
     "name": "stdout",
     "output_type": "stream",
     "text": [
      "Null Space:\n",
      "Matrix([[7], [1], [0], [0]])\n",
      "Matrix([[-2], [0], [0], [1]])\n",
      "\n",
      "Row Space:\n",
      "Matrix([[1, -7, 0, 2]])\n",
      "Matrix([[0, 0, 1, 0]])\n",
      "\n",
      "Column Space:\n",
      "Matrix([[1], [0], [0], [0]])\n",
      "Matrix([[0], [1], [0], [0]])\n"
     ]
    }
   ],
   "source": [
    "import sympy as sp\n",
    "\n",
    "\n",
    "# 행렬 정의\n",
    "A = sp.Matrix([\n",
    "    [1,-7,0,2],\n",
    "    [0,0,1,0],\n",
    "    [0,0,0,0],\n",
    "    [0,0,0,0]\n",
    "])\n",
    "\n",
    "# Null space 구하기\n",
    "null_space = A.nullspace()\n",
    "print(\"Null Space:\")\n",
    "for vector in null_space:\n",
    "    print(vector)\n",
    "\n",
    "# Row space 구하기 (행렬의 rank와 관련된 부분)\n",
    "row_space = A.rowspace()\n",
    "print(\"\\nRow Space:\")\n",
    "for vector in row_space:\n",
    "    print(vector)\n",
    "\n",
    "# Column space 구하기\n",
    "column_space = A.columnspace()\n",
    "print(\"\\nColumn Space:\")\n",
    "for vector in column_space:\n",
    "    print(vector)\n"
   ]
  }
 ],
 "metadata": {
  "kernelspec": {
   "display_name": "Python 3",
   "language": "python",
   "name": "python3"
  },
  "language_info": {
   "codemirror_mode": {
    "name": "ipython",
    "version": 3
   },
   "file_extension": ".py",
   "mimetype": "text/x-python",
   "name": "python",
   "nbconvert_exporter": "python",
   "pygments_lexer": "ipython3",
   "version": "3.13.2"
  }
 },
 "nbformat": 4,
 "nbformat_minor": 5
}
