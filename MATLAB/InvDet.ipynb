{
 "cells": [
  {
   "cell_type": "code",
   "execution_count": 1,
   "id": "9ccbd800",
   "metadata": {},
   "outputs": [
    {
     "name": "stdout",
     "output_type": "stream",
     "text": [
      "Determinant: -8\n",
      "Determinant of Inverse: -1/8\n",
      "Inverse of A:\n"
     ]
    },
    {
     "data": {
      "text/latex": [
       "$\\displaystyle \\left[\\begin{matrix}\\frac{1}{4} & \\frac{1}{8}\\\\\\frac{1}{4} & - \\frac{3}{8}\\end{matrix}\\right]$"
      ],
      "text/plain": [
       "Matrix([\n",
       "[1/4,  1/8],\n",
       "[1/4, -3/8]])"
      ]
     },
     "execution_count": 1,
     "metadata": {},
     "output_type": "execute_result"
    }
   ],
   "source": [
    "import sympy\n",
    "\n",
    "A = sympy.Matrix([\n",
    "  [3,1],\n",
    "  [2,-2]\n",
    "])\n",
    "\n",
    "IA = A.inv()\n",
    "det_A = A.det()\n",
    "det_IA = IA.det()\n",
    "print(\"Determinant:\",det_A)\n",
    "print(\"Determinant of Inverse:\",det_IA)\n",
    "print(\"Inverse of A:\")\n",
    "IA"
   ]
  },
  {
   "cell_type": "code",
   "execution_count": 2,
   "id": "3c162604",
   "metadata": {},
   "outputs": [
    {
     "name": "stdout",
     "output_type": "stream",
     "text": [
      "A's LUdecomposition of L:\n"
     ]
    },
    {
     "data": {
      "text/latex": [
       "$\\displaystyle \\left[\\begin{matrix}1 & 0 & 0\\\\2 & 1 & 0\\\\-1 & 0 & 1\\end{matrix}\\right]$"
      ],
      "text/plain": [
       "Matrix([\n",
       "[ 1, 0, 0],\n",
       "[ 2, 1, 0],\n",
       "[-1, 0, 1]])"
      ]
     },
     "execution_count": 2,
     "metadata": {},
     "output_type": "execute_result"
    }
   ],
   "source": [
    "L,U,P = A.LUdecomposition()\n",
    "print(\"A's LUdecomposition of L:\")\n",
    "L"
   ]
  },
  {
   "cell_type": "code",
   "execution_count": 3,
   "id": "5d41d14c",
   "metadata": {},
   "outputs": [
    {
     "name": "stdout",
     "output_type": "stream",
     "text": [
      "A's LUdecomposition of U:\n"
     ]
    },
    {
     "data": {
      "text/latex": [
       "$\\displaystyle \\left[\\begin{matrix}1 & -1 & 2\\\\0 & 5 & -5\\\\0 & 0 & 3\\end{matrix}\\right]$"
      ],
      "text/plain": [
       "Matrix([\n",
       "[1, -1,  2],\n",
       "[0,  5, -5],\n",
       "[0,  0,  3]])"
      ]
     },
     "execution_count": 3,
     "metadata": {},
     "output_type": "execute_result"
    }
   ],
   "source": [
    "print(\"A's LUdecomposition of U:\")\n",
    "U"
   ]
  }
 ],
 "metadata": {
  "kernelspec": {
   "display_name": "Python 3",
   "language": "python",
   "name": "python3"
  },
  "language_info": {
   "codemirror_mode": {
    "name": "ipython",
    "version": 3
   },
   "file_extension": ".py",
   "mimetype": "text/x-python",
   "name": "python",
   "nbconvert_exporter": "python",
   "pygments_lexer": "ipython3",
   "version": "3.13.2"
  }
 },
 "nbformat": 4,
 "nbformat_minor": 5
}
