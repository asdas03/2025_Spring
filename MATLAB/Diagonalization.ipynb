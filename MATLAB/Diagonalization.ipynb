{
 "cells": [
  {
   "cell_type": "code",
   "execution_count": 92,
   "id": "bdaf4ce0",
   "metadata": {},
   "outputs": [],
   "source": [
    "import sympy as sp\n",
    "\n",
    "A = sp.Matrix([\n",
    "    [4,-7,0,2],\n",
    "    [0,3,-4,6],\n",
    "    [0,0,3,-8],\n",
    "    [0,0,0,1]\n",
    "])"
   ]
  },
  {
   "cell_type": "code",
   "execution_count": 93,
   "id": "7f5f5d2b",
   "metadata": {},
   "outputs": [
    {
     "data": {
      "text/latex": [
       "$\\displaystyle t^{4} - 11 t^{3} + 43 t^{2} - 69 t + 36$"
      ],
      "text/plain": [
       "t**4 - 11*t**3 + 43*t**2 - 69*t + 36"
      ]
     },
     "execution_count": 93,
     "metadata": {},
     "output_type": "execute_result"
    }
   ],
   "source": [
    "A.charpoly('t').as_expr()"
   ]
  },
  {
   "cell_type": "code",
   "execution_count": 94,
   "id": "5c482878",
   "metadata": {},
   "outputs": [
    {
     "data": {
      "text/plain": [
       "{1: 1, 3: 2, 4: 1}"
      ]
     },
     "execution_count": 94,
     "metadata": {},
     "output_type": "execute_result"
    }
   ],
   "source": [
    "A.eigenvals()"
   ]
  },
  {
   "cell_type": "code",
   "execution_count": 96,
   "id": "39d76c70",
   "metadata": {},
   "outputs": [
    {
     "data": {
      "text/plain": [
       "[(1,\n",
       "  1,\n",
       "  [Matrix([\n",
       "   [11],\n",
       "   [ 5],\n",
       "   [ 4],\n",
       "   [ 1]])]),\n",
       " (3,\n",
       "  2,\n",
       "  [Matrix([\n",
       "   [7],\n",
       "   [1],\n",
       "   [0],\n",
       "   [0]])]),\n",
       " (4,\n",
       "  1,\n",
       "  [Matrix([\n",
       "   [1],\n",
       "   [0],\n",
       "   [0],\n",
       "   [0]])])]"
      ]
     },
     "execution_count": 96,
     "metadata": {},
     "output_type": "execute_result"
    }
   ],
   "source": [
    "A.eigenvects()"
   ]
  },
  {
   "cell_type": "code",
   "execution_count": 97,
   "id": "4801b01c",
   "metadata": {},
   "outputs": [
    {
     "ename": "MatrixError",
     "evalue": "Matrix is not diagonalizable",
     "output_type": "error",
     "traceback": [
      "\u001b[31m---------------------------------------------------------------------------\u001b[39m",
      "\u001b[31mMatrixError\u001b[39m                               Traceback (most recent call last)",
      "\u001b[36mCell\u001b[39m\u001b[36m \u001b[39m\u001b[32mIn[97]\u001b[39m\u001b[32m, line 1\u001b[39m\n\u001b[32m----> \u001b[39m\u001b[32m1\u001b[39m P,D = \u001b[43mA\u001b[49m\u001b[43m.\u001b[49m\u001b[43mdiagonalize\u001b[49m\u001b[43m(\u001b[49m\u001b[43m)\u001b[49m\n",
      "\u001b[36mFile \u001b[39m\u001b[32mc:\\python\\Lib\\site-packages\\sympy\\matrices\\matrixbase.py:3343\u001b[39m, in \u001b[36mMatrixBase.diagonalize\u001b[39m\u001b[34m(self, reals_only, sort, normalize)\u001b[39m\n\u001b[32m   3342\u001b[39m \u001b[38;5;28;01mdef\u001b[39;00m\u001b[38;5;250m \u001b[39m\u001b[34mdiagonalize\u001b[39m(\u001b[38;5;28mself\u001b[39m, reals_only=\u001b[38;5;28;01mFalse\u001b[39;00m, sort=\u001b[38;5;28;01mFalse\u001b[39;00m, normalize=\u001b[38;5;28;01mFalse\u001b[39;00m):\n\u001b[32m-> \u001b[39m\u001b[32m3343\u001b[39m     \u001b[38;5;28;01mreturn\u001b[39;00m \u001b[43m_diagonalize\u001b[49m\u001b[43m(\u001b[49m\u001b[38;5;28;43mself\u001b[39;49m\u001b[43m,\u001b[49m\u001b[43m \u001b[49m\u001b[43mreals_only\u001b[49m\u001b[43m=\u001b[49m\u001b[43mreals_only\u001b[49m\u001b[43m,\u001b[49m\u001b[43m \u001b[49m\u001b[43msort\u001b[49m\u001b[43m=\u001b[49m\u001b[43msort\u001b[49m\u001b[43m,\u001b[49m\n\u001b[32m   3344\u001b[39m \u001b[43m            \u001b[49m\u001b[43mnormalize\u001b[49m\u001b[43m=\u001b[49m\u001b[43mnormalize\u001b[49m\u001b[43m)\u001b[49m\n",
      "\u001b[36mFile \u001b[39m\u001b[32mc:\\python\\Lib\\site-packages\\sympy\\matrices\\eigen.py:700\u001b[39m, in \u001b[36m_diagonalize\u001b[39m\u001b[34m(M, reals_only, sort, normalize)\u001b[39m\n\u001b[32m    696\u001b[39m is_diagonalizable, eigenvecs = _is_diagonalizable_with_eigen(M,\n\u001b[32m    697\u001b[39m             reals_only=reals_only)\n\u001b[32m    699\u001b[39m \u001b[38;5;28;01mif\u001b[39;00m \u001b[38;5;129;01mnot\u001b[39;00m is_diagonalizable:\n\u001b[32m--> \u001b[39m\u001b[32m700\u001b[39m     \u001b[38;5;28;01mraise\u001b[39;00m MatrixError(\u001b[33m\"\u001b[39m\u001b[33mMatrix is not diagonalizable\u001b[39m\u001b[33m\"\u001b[39m)\n\u001b[32m    702\u001b[39m \u001b[38;5;28;01mif\u001b[39;00m sort:\n\u001b[32m    703\u001b[39m     eigenvecs = \u001b[38;5;28msorted\u001b[39m(eigenvecs, key=default_sort_key)\n",
      "\u001b[31mMatrixError\u001b[39m: Matrix is not diagonalizable"
     ]
    }
   ],
   "source": [
    "P,D = A.diagonalize()"
   ]
  },
  {
   "cell_type": "code",
   "execution_count": 68,
   "id": "d574e658",
   "metadata": {},
   "outputs": [
    {
     "data": {
      "text/latex": [
       "$\\displaystyle \\left[\\begin{matrix}-2 & 0 & -1\\\\1 & 1 & 0\\\\1 & 0 & 1\\end{matrix}\\right]$"
      ],
      "text/plain": [
       "Matrix([\n",
       "[-2, 0, -1],\n",
       "[ 1, 1,  0],\n",
       "[ 1, 0,  1]])"
      ]
     },
     "execution_count": 68,
     "metadata": {},
     "output_type": "execute_result"
    }
   ],
   "source": [
    "P"
   ]
  },
  {
   "cell_type": "code",
   "execution_count": 69,
   "id": "bf354e51",
   "metadata": {},
   "outputs": [
    {
     "data": {
      "text/latex": [
       "$\\displaystyle \\left[\\begin{matrix}1 & 0 & 0\\\\0 & 2 & 0\\\\0 & 0 & 2\\end{matrix}\\right]$"
      ],
      "text/plain": [
       "Matrix([\n",
       "[1, 0, 0],\n",
       "[0, 2, 0],\n",
       "[0, 0, 2]])"
      ]
     },
     "execution_count": 69,
     "metadata": {},
     "output_type": "execute_result"
    }
   ],
   "source": [
    "D"
   ]
  },
  {
   "cell_type": "code",
   "execution_count": 70,
   "id": "caf5ddf9",
   "metadata": {},
   "outputs": [
    {
     "data": {
      "text/latex": [
       "$\\displaystyle \\left[\\begin{matrix}-30 & 0 & -62\\\\31 & 32 & 31\\\\31 & 0 & 63\\end{matrix}\\right]$"
      ],
      "text/plain": [
       "Matrix([\n",
       "[-30,  0, -62],\n",
       "[ 31, 32,  31],\n",
       "[ 31,  0,  63]])"
      ]
     },
     "execution_count": 70,
     "metadata": {},
     "output_type": "execute_result"
    }
   ],
   "source": [
    "Apow = A**5\n",
    "Apow"
   ]
  }
 ],
 "metadata": {
  "kernelspec": {
   "display_name": "Python 3",
   "language": "python",
   "name": "python3"
  },
  "language_info": {
   "codemirror_mode": {
    "name": "ipython",
    "version": 3
   },
   "file_extension": ".py",
   "mimetype": "text/x-python",
   "name": "python",
   "nbconvert_exporter": "python",
   "pygments_lexer": "ipython3",
   "version": "3.13.2"
  }
 },
 "nbformat": 4,
 "nbformat_minor": 5
}
