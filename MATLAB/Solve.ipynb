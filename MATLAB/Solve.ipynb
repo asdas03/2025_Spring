{
 "cells": [
  {
   "cell_type": "code",
   "execution_count": 3,
   "id": "2d245174",
   "metadata": {},
   "outputs": [
    {
     "name": "stdout",
     "output_type": "stream",
     "text": [
      "[]\n"
     ]
    }
   ],
   "source": [
    "from sympy import Matrix, symbols, solve\n",
    "\n",
    "x, y, z = symbols('x y z')\n",
    "\n",
    "A = Matrix([\n",
    "    [1,4,-1],\n",
    "    [4,1,2],\n",
    "    [3,-3,3]\n",
    "])\n",
    "\n",
    "B = Matrix([\n",
    "    [3],\n",
    "    [-1],\n",
    "    [-2]\n",
    "])\n",
    "\n",
    "eqs = A * Matrix([x, y, z]) - B\n",
    "\n",
    "solution = solve(eqs, (x, y, z))\n",
    "print(solution)\n"
   ]
  }
 ],
 "metadata": {
  "kernelspec": {
   "display_name": "Python 3",
   "language": "python",
   "name": "python3"
  },
  "language_info": {
   "codemirror_mode": {
    "name": "ipython",
    "version": 3
   },
   "file_extension": ".py",
   "mimetype": "text/x-python",
   "name": "python",
   "nbconvert_exporter": "python",
   "pygments_lexer": "ipython3",
   "version": "3.13.2"
  }
 },
 "nbformat": 4,
 "nbformat_minor": 5
}
